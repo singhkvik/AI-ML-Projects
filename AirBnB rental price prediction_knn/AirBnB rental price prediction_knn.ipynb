{
 "cells": [
  {
   "cell_type": "code",
   "execution_count": 1,
   "id": "f2e4672c",
   "metadata": {},
   "outputs": [],
   "source": [
    "# Import required libraries\n",
    "import numpy as np\n",
    "import pandas as pd\n",
    "from sklearn.neighbors import KNeighborsRegressor\n",
    "from sklearn.metrics import mean_squared_error\n",
    "import math"
   ]
  },
  {
   "cell_type": "code",
   "execution_count": 2,
   "id": "c0c5ecf6",
   "metadata": {},
   "outputs": [],
   "source": [
    "dc_listings = pd.read_csv('dc_airbnb.csv')"
   ]
  },
  {
   "cell_type": "code",
   "execution_count": 3,
   "id": "daa1902c",
   "metadata": {},
   "outputs": [
    {
     "name": "stderr",
     "output_type": "stream",
     "text": [
      "<ipython-input-3-ca249ee74432>:2: FutureWarning: The default value of regex will change from True to False in a future version. In addition, single character regular expressions will*not* be treated as literal strings when regex=True.\n",
      "  dc_listings[\"price\"] = dc_listings[\"price\"].str.replace(\"$\", \"\").str.replace(\",\", \"\").astype(float)\n"
     ]
    }
   ],
   "source": [
    "# Cleaning \"price\" column data by removing \"$\" and \",\"\n",
    "dc_listings[\"price\"] = dc_listings[\"price\"].str.replace(\"$\", \"\").str.replace(\",\", \"\").astype(float)"
   ]
  },
  {
   "cell_type": "code",
   "execution_count": 4,
   "id": "fc4d4825",
   "metadata": {},
   "outputs": [],
   "source": [
    "# Drop the non-numerical, non-ordinal, and unnecessary columns\n",
    "drop_columns = ['host_response_rate', 'host_acceptance_rate', 'host_listings_count', 'room_type', 'city', 'state', 'latitude', 'longitude', 'zipcode']\n",
    "dc_listings = dc_listings.drop(drop_columns, axis=1)"
   ]
  },
  {
   "cell_type": "code",
   "execution_count": 5,
   "id": "50d878a7",
   "metadata": {},
   "outputs": [],
   "source": [
    "# Remove columns with huge number of missing values\n",
    "# Drop rows corresponding to a few missing values in columns\n",
    "dc_listings = dc_listings.drop(['cleaning_fee', 'security_deposit'], axis=1)\n",
    "dc_listings = dc_listings.dropna(axis=0)"
   ]
  },
  {
   "cell_type": "code",
   "execution_count": 7,
   "id": "3ad3ed29",
   "metadata": {},
   "outputs": [],
   "source": [
    "# Running KNN model\n",
    "train_df = dc_listings.iloc[0:2754] # 75% of the rows\n",
    "test_df = dc_listings.iloc[2754:]\n",
    "features = ['accommodates', 'bedrooms', 'bathrooms', 'beds',\n",
    "       'minimum_nights', 'maximum_nights', 'number_of_reviews']\n",
    "\n",
    "\n",
    "knn = KNeighborsRegressor(algorithm='brute', n_neighbors=5)\n",
    "knn.fit(train_df[features], train_df['price'])\n",
    "all_features_predictions = knn.predict(test_df[features])\n",
    "all_features_mse = mean_squared_error(test_df['price'], all_features_predictions)\n",
    "all_features_rmse = math.sqrt(all_features_mse)"
   ]
  },
  {
   "cell_type": "code",
   "execution_count": 8,
   "id": "9b6502c6",
   "metadata": {},
   "outputs": [
    {
     "name": "stdout",
     "output_type": "stream",
     "text": [
      "11500.774394765542\n",
      "107.24166352106602\n"
     ]
    }
   ],
   "source": [
    "print(all_features_mse)\n",
    "print(all_features_rmse)"
   ]
  },
  {
   "cell_type": "code",
   "execution_count": null,
   "id": "3be0525b",
   "metadata": {},
   "outputs": [],
   "source": []
  }
 ],
 "metadata": {
  "kernelspec": {
   "display_name": "Python 3",
   "language": "python",
   "name": "python3"
  },
  "language_info": {
   "codemirror_mode": {
    "name": "ipython",
    "version": 3
   },
   "file_extension": ".py",
   "mimetype": "text/x-python",
   "name": "python",
   "nbconvert_exporter": "python",
   "pygments_lexer": "ipython3",
   "version": "3.8.8"
  }
 },
 "nbformat": 4,
 "nbformat_minor": 5
}
